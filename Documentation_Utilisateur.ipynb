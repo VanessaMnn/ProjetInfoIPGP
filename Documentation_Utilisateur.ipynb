{
 "cells": [
  {
   "cell_type": "markdown",
   "id": "af6a186e",
   "metadata": {},
   "source": [
    "<center>\n",
    "    <br>\n",
    "    <font size=\"14\"><b>Documentation Utilisateur</b></font>\n",
    "    <br>\n",
    "    <br>\n",
    "    <font size=\"4\">Logiciel de visualisation des résidus DORIS IGN/IPGP/JPL</font><br>\n",
    "    <font size=\"4\">Vanessa Monnier - vanessa.monnier@ensg.eu</font><br>\n",
    "    <font size=\"2\">novembre 2024 - janvier 2025</font>\n",
    "</center>\n",
    "Développée par Vanessa Monnier, étudiante ingénieure PPMD, sous l'encadrement de Arnaud Pollet, Samuel Nahmani, Guillaume Lion\n",
    "\n",
    "## I - Description <a class=\"anchor\" id=\"Q1\"></a>\n",
    "Ce projet consiste à développer un logiciel de visualisation des résidus de traitement des mesures DORIS et des produits associés (résidus d’observation, paramètres orbitaux) fournis par l'International Doris Service. Cet outil a pour but d'être utilisé, et que sont développement soit poursuivit, par le centre d'analyse IGN/IPGP/JPL. Il utilise une architecture MVC (modèle, vue, controlleur) et implémente divers design patterns (Strategy, Factory, Observer). Cet architecture a pour but de rendre ce projet accessible et facile de prise en main de code, pour un prochain étudiant qui sera chargé de continuer le développement de l'outil.\n",
    "\n",
    "Le logiciel permet actuellement de visualiser les positions géographiques des stations sur une carte mondiale, et d'afficher plusieurs graphiques (skyplot, graphique d'évolution des résidus).\n"
   ]
  },
  {
   "cell_type": "markdown",
   "id": "5c84b2fe",
   "metadata": {},
   "source": [
    "<br>\n",
    "    <font size=\"4\"><b>Sommaire</b></font><br>\n",
    " \n",
    "* [I - Description](#Q1)\n",
    "* [II - Fonctionnalités](#Q2)\n",
    "* [III - Prérequis](#Q3)\n",
    "* [IV - Installation](#Q4)\n",
    "* [V - Exemple de test](#Q5)\n",
    "* [VI - Problème rencontré](#Q6)\n",
    "* [VII - Contributions](#Q7)\n",
    "\n"
   ]
  },
  {
   "cell_type": "markdown",
   "id": "39dc74f2",
   "metadata": {},
   "source": [
    "## II - Fonctionnalités <a class=\"anchor\" id=\"Q2\"></a>\n",
    "- Affichage des positions des stations DORIS sur une carte mondiale avec survol interactif des coordonnées.\n",
    "- Possibilité de zoom et de clique sur chaque station pour voir le descriptif\n",
    "- Bouton \"saisie-utilisateur\" : Permet à l'utilisateur de chosir la période de temps des données qu'il veut représenter, le satellite concerné, et les stations associés. \n",
    "- Génération de Skyplots basés sur une plage de dates et des sélections spécifiques de satellites/stations : grâce au bouton \"Visualisation\", deux sous-boutons apparaissent \"Skyplot-station\" et \"Skyplot-satellite\". Le premier correspond aux traces de la station, en ce plaçant dans le référentiel du satellite vide, et le deuxième correspond à la trace du satellite dans le ciel vue depuis la station au sol. Le skyplot représente l'évolution des résidus en fonction de l'azimut et de l'élévation (de la station ou du satellite).\n",
    "- Nettoyage et analyse statistique des données : Concernant ce point, un nettoyage a été effectuée dans les fichiers de données brutes pour supprimer les lignes contenant des \"DELETED\", mais l'implémentation d'un algorithme de nettoyage pour exclure certaines données n'a pas été faite par manque de temps."
   ]
  },
  {
   "cell_type": "markdown",
   "id": "5b10c8cd",
   "metadata": {},
   "source": [
    "## III - Prérequis <a class=\"anchor\" id=\"Q3\"></a>\n",
    "- **Python 3.8+**\n",
    "- Bibliothèques Python :\n",
    "  - `PyQt5`\n",
    "  - `matplotlib`\n",
    "  - `numpy`\n",
    "  - `pandas`\n",
    "  - `folium`\n",
    "  - `os`\n",
    "- Connexion Internet pour charger la carte Leaflet.\n",
    "- Avoir la base de donnée des fichiers en interne (dossier `BDD`, contient un nombre de fichier de test). "
   ]
  },
  {
   "cell_type": "markdown",
   "id": "9d1eb0a6",
   "metadata": {},
   "source": [
    "## IV - Installation <a class=\"anchor\" id=\"Q4\"></a>\n",
    "\n",
    "1. **Cloner le dépôt Git en local**  \n",
    "   Exécutez la commande suivante dans votre terminal pour cloner le dépôt :  \n",
    "   ```bash\n",
    "   git clone <URL_DU_DEPOT_GIT>\n",
    "   ```\n",
    "   Remplacez `<URL_DU_DEPOT_GIT>` par l'URL de votre dépôt Git.\n",
    "\n",
    "\n",
    "2. **Accéder au répertoire cloné**  \n",
    "   Naviguez dans le dossier du dépôt cloné avec la commande :  \n",
    "   ```bash\n",
    "   cd <NOM_DU_DOSSIER>\n",
    "   ```\n",
    "   Remplacez `<NOM_DU_DOSSIER>` par le nom du dossier correspondant.\n",
    "\n",
    "\n",
    "3. **Lancer le script Python dans l'exécuteur de commande**  \n",
    "   Pour exécuter le fichier `runclass.py`, utilisez la commande suivante dans votre terminal :  \n",
    "   ```bash\n",
    "   python runclass.py\n",
    "   ```  "
   ]
  },
  {
   "cell_type": "markdown",
   "id": "35214953",
   "metadata": {},
   "source": [
    "## V - Exemple de test <a class=\"anchor\" id=\"Q5\"></a>\n",
    "\n",
    "Cette partie permet à l'utilisateur de savoir comment utiliser l'outil à l'aide de visuel lui permettant étape par étape de savoir comment intéragir avec l'interface. Cela fait office de **notice d'utilisation / Aide utilisateur**.\n",
    "\n",
    "### a) Interface Graphique"
   ]
  },
  {
   "cell_type": "markdown",
   "id": "50b568f5",
   "metadata": {},
   "source": [
    "Cette première image correspond à la première vue de l'utilisateur lorsqu'il arrive sur l'interface. L'ensemble des marqueurs bleus représente toutes les stations au sol. \n",
    "\n",
    "<img src=\"Notice_utilisateur_image/vue1.png\" alt=\"ImagePrincipal\" width=\"400\" height=\"300\">\n",
    "\n",
    "Il a la possibilité de cliquer sur le marqueur pour avoir les détails sur le nom de la station et sa position en longitude / latitude.\n",
    "\n",
    "<img src=\"Notice_utilisateur_image/vue2.png\" alt=\"ImagePrincipal\" width=\"400\" height=\"300\">"
   ]
  },
  {
   "cell_type": "markdown",
   "id": "d1d6a51a",
   "metadata": {},
   "source": [
    "Plusieurs boutons sont présents en haut à gauche de l'écran et représentent les fonctionnalités sur lesquelles peut intéragir l'utilisateur. Le premier bouton `Saisie Utilisateur` permet à l'utilisateur de rentrer la période de temps des données qu'il veut étudier, le nom du satellite sur lequel il souhaite se focaliser, et une liste de station associée au satellite où il doit en choisir au moins 1, sachant qu'un maximum de 4 est préférable pour garder une bonne visibilité et gestion des graphiques.\n",
    "\n",
    "<img src=\"Notice_utilisateur_image/vue3.png\" alt=\"ImagePrincipal\" width=\"300\" height=\"300\">\n",
    "\n",
    "<img src=\"Notice_utilisateur_image/vue4.png\" alt=\"ImagePrincipal\" width=\"300\" height=\"300\">"
   ]
  },
  {
   "cell_type": "markdown",
   "id": "8076485a",
   "metadata": {},
   "source": [
    "Ensuite, une fois le clique sur `Valider` effectué, il faut déplacer la souris sur le bouton `Visualisation` et deux boutons apparaissent. `Skyplot-Station`et `Skyplot-satellite` permettent d'afficher une fenêtre skyplot. Le premier considère le satellite immobile, et permet donc d'afficher les traces de la station au sol, et le deuxième considère le cas classique d'une station au sol fixe et permet donc de visualiser la trace du satellite dans le ciel.\n",
    "<img src=\"Notice_utilisateur_image/vue5.png\" alt=\"ImagePrincipal\" width=\"300\" height=\"300\">"
   ]
  },
  {
   "cell_type": "markdown",
   "id": "bf8de304",
   "metadata": {},
   "source": [
    "Cela nous permet ensuite de visualiser les skyplots et de pouvoir effectuer des comparaisons. On a une correspondance de couleur entre le contour du bouton `Sauvegarder fichier`et les marqueurs au sol. Cela permet d'observer l'impact de la position géographique du marqueur sur les résidus. \n",
    "\n",
    "<img src=\"Notice_utilisateur_image/vue6.png\" alt=\"ImagePrincipal\" width=\"800\" height=\"400\">"
   ]
  },
  {
   "cell_type": "markdown",
   "id": "f8a9deb3",
   "metadata": {},
   "source": [
    "Une fois les skyplots affichés, les comparaisons peuvent démarrer. Un autre bouton `Sauvegarder le Skyplot`permet comme son nom l'indique, de sauvegarder le skyplot en local. Pour finir si l'utilisateur le souhaite, il peut cliquer sur le bouton `Redémarrer`afin de ré-actualiser toutes les variables qui étaient enregistrés. Cela ferme les fenêtres Skyplot ouvertes, réinitialise les données dans le modèle et recharge les données pour réafficher la vue principale. Pour finir, un bouton `Statistiques`est visible, mais il n'est pas implémenté pour le moment, donc il n'a pas d'utilité. Il devra être repris par un autre étudiant."
   ]
  },
  {
   "cell_type": "markdown",
   "id": "0561e566",
   "metadata": {},
   "source": [
    "## VI - Problèmes rencontrés <a class=\"anchor\" id=\"Q6\"></a>\n",
    "\n",
    "#là je change les marqueurs pour des cercles, car les marqueurs ne sont pas compatibles avec des valeurs hexadécimales. ça change simplement le visuel, rien d'autres"
   ]
  },
  {
   "cell_type": "markdown",
   "id": "3e122f1a",
   "metadata": {},
   "source": [
    "## VII - Contributions <a class=\"anchor\" id=\"Q7\"></a>\n",
    "\n",
    "Ce projet est ouvert aux contributions ! Que vous soyez développeur, testeur ou simplement curieux, toute aide est la bienvenue. Voici comment contribuer :\n",
    "\n",
    "### Étapes pour Contribuer\n",
    "1. **Clonez le dépôt** :\n",
    "   ```bash\n",
    "   git clone https://github.com/VanessaMnn/ProjetInfoIPGP.git\n",
    "   ```\n",
    "2. **Créez une branche** :\n",
    "   ```bash\n",
    "   git checkout -b feature/nom-fonctionnalite\n",
    "   ```\n",
    "3. **Apportez vos modifications** et ajoutez des commits clairs. <br><br>\n",
    "\n",
    "4. **Soumettez une Pull Request** en décrivant vos changements.\n",
    "\n",
    "### Contact\n",
    "Pour toute question ou suggestion, utilisez la section \"Issues\" du dépôt GitHub ou envoyez un email à `vanessa.monnier@ensg.eu`.\n",
    "\n",
    "### Remerciements\n",
    "Un grand merci à l'équipe géodésique de l'IPGP, Arnaud Pollet, Samuel Nahmani et Guillaume Lion."
   ]
  }
 ],
 "metadata": {
  "kernelspec": {
   "display_name": "Python 3 (ipykernel)",
   "language": "python",
   "name": "python3"
  },
  "language_info": {
   "codemirror_mode": {
    "name": "ipython",
    "version": 3
   },
   "file_extension": ".py",
   "mimetype": "text/x-python",
   "name": "python",
   "nbconvert_exporter": "python",
   "pygments_lexer": "ipython3",
   "version": "3.9.13"
  }
 },
 "nbformat": 4,
 "nbformat_minor": 5
}
