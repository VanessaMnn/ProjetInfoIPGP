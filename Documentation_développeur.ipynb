{
 "cells": [
  {
   "cell_type": "markdown",
   "id": "22e6bda7",
   "metadata": {},
   "source": [
    "<center>\n",
    "    <br>\n",
    "    <font size=\"14\"><b>Documentation Développeur</b></font>\n",
    "    <br>\n",
    "    <br>\n",
    "    <font size=\"4\">Logiciel de visualisation des résidus DORIS IGN/IPGP/JPL</font><br>\n",
    "    <font size=\"4\">Vanessa Monnier - vanessa.monnier@ensg.eu</font><br>\n",
    "    <font size=\"2\">novembre 2024 - janvier 2025</font>\n",
    "</center>\n",
    "Développée par Vanessa Monnier, étudiante ingénieure filière PPMD, sous l'encadrement de Arnaud Pollet, Samuel Nahmani, Guillaume Lion\n",
    "\n",
    "## I - Description <a class=\"anchor\" id=\"Q1\"></a>\n",
    "Ce projet consiste à développer un logiciel de visualisation des résidus de traitement des mesures DORIS et des produits associés (résidus d’observation, paramètres orbitaux) fournis par l'International Doris Service. Cet outil a pour but d'être utilisé, et que sont développement soit poursuivit, par le centre d'analyse IGN/IPGP/JPL. Il utilise une architecture MVC (modèle, vue, controlleur) et implémente divers design patterns (Strategy, Factory, Observer). Cet architecture a pour but de rendre ce projet accessible et facile de prise en main de code, pour un prochain étudiant qui sera chargé de continuer le développement de l'outil.\n",
    "\n",
    "Le logiciel permet actuellement de visualiser les positions géographiques des stations sur une carte mondiale, et d'afficher plusieurs graphiques (skyplot, graphique d'évolution des résidus).\n",
    "\n"
   ]
  },
  {
   "cell_type": "markdown",
   "id": "67ea8835",
   "metadata": {},
   "source": [
    "<br>\n",
    "    <font size=\"4\"><b>Sommaire</b></font><br>\n",
    "    \n",
    "* [I - Description](#Q1)\n",
    "* [II - Modules Python à importer](#Q2)\n",
    "* [III - Jeu de donnée](#Q3)\n",
    "* [III - Explications des différentes classes](#Q4)\n",
    "  * [Classe Modele]\n",
    "  * [Classe Controleur ]\n",
    "  * [Classe Vue ]\n",
    "* [Problèmes rencontrés](#Q5)\n",
    "* [Contributions](#Q6)\n",
    "\n"
   ]
  },
  {
   "cell_type": "markdown",
   "id": "8c008e1b",
   "metadata": {},
   "source": [
    "## II - Modules Python à importer <a class=\"anchor\" id=\"Q2\"></a>"
   ]
  },
  {
   "cell_type": "markdown",
   "id": "5d2a09c7",
   "metadata": {},
   "source": [
    "### a) Modules à importer pour la partie \"View\""
   ]
  },
  {
   "cell_type": "code",
   "execution_count": 1,
   "id": "a7cd1f25",
   "metadata": {},
   "outputs": [],
   "source": [
    "from abc import ABC, abstractmethod\n",
    "from PyQt5.QtWidgets import QMainWindow, QWidget, QVBoxLayout, QToolBar, QLabel, QAction, QLineEdit, QComboBox, QPushButton, QHBoxLayout, QCheckBox, QScrollArea, QListWidget, QListWidgetItem, QAbstractItemView, QMessageBox, QFileDialog, QDesktopWidget\n",
    "from PyQt5.QtWebEngineWidgets import QWebEngineView\n",
    "import folium\n",
    "from PyQt5.QtCore import QUrl, pyqtSignal, QPoint, Qt\n",
    "import os\n",
    "from PyQt5 import QtCore\n",
    "\n",
    "from PyQt5.QtCore import Qt, QObject\n",
    "from matplotlib.backends.backend_qt5agg import FigureCanvasQTAgg as FigureCanvas\n",
    "from matplotlib.figure import Figure\n",
    "\n",
    "import numpy as np\n",
    "import matplotlib.pyplot as plt\n",
    "import random\n",
    "#pip install \"nom_librairie\" si problème d'import"
   ]
  },
  {
   "cell_type": "markdown",
   "id": "e081a8d2",
   "metadata": {},
   "source": [
    "### b) Modules à importer pour la partie \"Controleur\""
   ]
  },
  {
   "cell_type": "code",
   "execution_count": 2,
   "id": "8d498fad",
   "metadata": {
    "scrolled": true
   },
   "outputs": [
    {
     "ename": "ModuleNotFoundError",
     "evalue": "No module named 'Modele'",
     "output_type": "error",
     "traceback": [
      "\u001b[1;31m---------------------------------------------------------------------------\u001b[0m",
      "\u001b[1;31mModuleNotFoundError\u001b[0m                       Traceback (most recent call last)",
      "\u001b[1;32m~\\AppData\\Local\\Temp\\ipykernel_55316\\1897531373.py\u001b[0m in \u001b[0;36m<module>\u001b[1;34m\u001b[0m\n\u001b[1;32m----> 1\u001b[1;33m \u001b[1;32mfrom\u001b[0m \u001b[0mModele\u001b[0m \u001b[1;32mimport\u001b[0m \u001b[0mModele\u001b[0m\u001b[1;33m\u001b[0m\u001b[1;33m\u001b[0m\u001b[0m\n\u001b[0m\u001b[0;32m      2\u001b[0m \u001b[1;32mimport\u001b[0m \u001b[0mView\u001b[0m\u001b[1;33m\u001b[0m\u001b[1;33m\u001b[0m\u001b[0m\n\u001b[0;32m      3\u001b[0m \u001b[1;32mfrom\u001b[0m \u001b[0mView\u001b[0m \u001b[1;32mimport\u001b[0m \u001b[0mfenetre_Skyplot\u001b[0m\u001b[1;33m,\u001b[0m \u001b[0mSkyplot\u001b[0m\u001b[1;33m\u001b[0m\u001b[1;33m\u001b[0m\u001b[0m\n\u001b[0;32m      4\u001b[0m \u001b[1;32mfrom\u001b[0m \u001b[0mPyQt5\u001b[0m\u001b[1;33m.\u001b[0m\u001b[0mQtWidgets\u001b[0m \u001b[1;32mimport\u001b[0m \u001b[0mQMainWindow\u001b[0m\u001b[1;33m,\u001b[0m \u001b[0mQWidget\u001b[0m\u001b[1;33m,\u001b[0m \u001b[0mQVBoxLayout\u001b[0m\u001b[1;33m,\u001b[0m \u001b[0mQToolBar\u001b[0m\u001b[1;33m,\u001b[0m \u001b[0mQLabel\u001b[0m\u001b[1;33m,\u001b[0m \u001b[0mQAction\u001b[0m\u001b[1;33m,\u001b[0m \u001b[0mQLineEdit\u001b[0m\u001b[1;33m,\u001b[0m \u001b[0mQComboBox\u001b[0m\u001b[1;33m,\u001b[0m \u001b[0mQPushButton\u001b[0m\u001b[1;33m,\u001b[0m \u001b[0mQHBoxLayout\u001b[0m\u001b[1;33m,\u001b[0m \u001b[0mQCheckBox\u001b[0m\u001b[1;33m,\u001b[0m \u001b[0mQScrollArea\u001b[0m\u001b[1;33m,\u001b[0m \u001b[0mQListWidget\u001b[0m\u001b[1;33m,\u001b[0m \u001b[0mQListWidgetItem\u001b[0m\u001b[1;33m,\u001b[0m \u001b[0mQAbstractItemView\u001b[0m\u001b[1;33m,\u001b[0m \u001b[0mQMenu\u001b[0m\u001b[1;33m\u001b[0m\u001b[1;33m\u001b[0m\u001b[0m\n\u001b[0;32m      5\u001b[0m \u001b[1;32mimport\u001b[0m \u001b[0mtime\u001b[0m\u001b[1;33m\u001b[0m\u001b[1;33m\u001b[0m\u001b[0m\n",
      "\u001b[1;31mModuleNotFoundError\u001b[0m: No module named 'Modele'"
     ]
    }
   ],
   "source": [
    "from Modele import Modele\n",
    "import View\n",
    "from View import fenetre_Skyplot, Skyplot\n",
    "from PyQt5.QtWidgets import QMainWindow, QWidget, QVBoxLayout, QToolBar, QLabel, QAction, QLineEdit, QComboBox, QPushButton, QHBoxLayout, QCheckBox, QScrollArea, QListWidget, QListWidgetItem, QAbstractItemView, QMenu\n",
    "import time\n",
    "import folium\n",
    "from PyQt5.QtCore import QUrl\n",
    "import random"
   ]
  },
  {
   "cell_type": "markdown",
   "id": "813e16bc",
   "metadata": {},
   "source": [
    "## III - Jeu de donnée <a class=\"anchor\" id=\"Q3\"></a>\n",
    "\n",
    "Les données constituent des fichiers fournis par le logiciel GipsyX (logiciel développé par la NASA).\n",
    "\n",
    "3 types de fichiers nous sont fournis.\n",
    "\n",
    "- fichier `smooth.pos` qui contient les paramètres orbitaux d’un satellite (position et vitesse), ce qui donne par colonnes les variables : nom du repère (ici repère terrestre fixe), le nom du satellite, la date de la position du satellite en seconde, et ensuite les positions x, y et z du satellite en coordonnées cartésiennes suivit du vecteur vitesse selon ses trois composantes vx, vy et vz. \n",
    "\n",
    "- fichier `finalresiduals.out` qui correspond par colonne aux variables : la date d’acquisition des résidus en seconde depuis le 1er janvier 2000, le nom du satellite associé au nom de la station qui le mesure, le type de modèle, les valeurs résiduelles associées au satellite en m/s, l’élévation du satellite, l’azimut du satellite, l’élévation de la station et pour finir l’azimut de la station.\n",
    "\n",
    "- fichier `smooth.tdp`. C’est un fichier de paramètre comme les paramètres de tropo ou d’accélération empirique (en sinus et cosinus) contenant : date mesure, apriori (ce qu’on estime), valeur du paramètre et écart-type associé."
   ]
  },
  {
   "cell_type": "markdown",
   "id": "a115914a",
   "metadata": {},
   "source": [
    "## IV - Explications des différentes classes <a class=\"anchor\" id=\"Q4\"></a>\n",
    "\n",
    "### a) Classe Modèle\n",
    "\n",
    "   Elle permet de centraliser les données et les opérations nécessaires pour leur traitement, leur nettoyage, et leur analyse statistique. Elle récupère le type de données souhaité à l’aide de la classe LectureFichier, et grâce à la méthode `charge_donnees(self, type_fichier, nom_satellite, jour_debut, jour_fin, noms_stations=None)` permet d'afficher les valeurs voulues en fonction du calcul souhaité. Au cours de cette méthode, un premier nettoyage est effectué dans le jeu de donnée brute qui contient des lignes avec des valeurs complètement erronées. Pour la suite, d'autres méthodes de nettoyage pourraient être implémentées, pour trier les données de manière plus fines en fonction de la précision voulue. La variable `type_fichier` de cette méthode correspond aux 3 types de fichiers d'entrée expliquée dans la partie III - Jeu de donnée, à laquelle s'ajoute le type de fichier `position_stations` permettant de positionner les positions des stations au sol.\n"
   ]
  },
  {
   "cell_type": "code",
   "execution_count": 11,
   "id": "6ef32120",
   "metadata": {},
   "outputs": [
    {
     "name": "stdout",
     "output_type": "stream",
     "text": [
      "            jour      temps            x            y            z\n",
      "0     2024-04-07  765709260  4093.952659  4594.584513 -4657.146493\n",
      "1     2024-04-07  765709320  3794.755775  4549.637843 -4945.546398\n",
      "2     2024-04-07  765709380  3483.357650  4493.265689 -5218.494107\n",
      "3     2024-04-07  765709440  3160.626682  4425.748624 -5475.140175\n",
      "4     2024-04-07  765709500  2827.468506  4347.393871 -5714.686379\n",
      "...          ...        ...          ...          ...          ...\n",
      "5380  2024-04-09  765989220 -4109.498754  4522.756255  4710.687247\n",
      "5381  2024-04-09  765989280 -4096.181195  4217.776741  4996.327497\n",
      "5382  2024-04-09  765989340 -4072.890863  3899.560407  5266.347183\n",
      "5383  2024-04-09  765989400 -4039.814402  3569.009873  5519.905466\n",
      "5384  2024-04-09  765989460 -3997.160664  3227.067287  5756.213272\n",
      "\n",
      "[5385 rows x 5 columns]\n"
     ]
    }
   ],
   "source": [
    "from LectureFichier import LectureFichier\n",
    "import os\n",
    "from pathlib import Path\n",
    "from Modele import Modele\n",
    "modele = Modele()\n",
    "\n",
    "#--------Definition du chemin de la BDD-----------\n",
    "current_dir = Path(os.getcwd())\n",
    "chemin_donnees = current_dir / \"BDD\"\n",
    "lecteur = LectureFichier(chemin_donnees)\n",
    "\n",
    "##--------Lecture smooth.pos----------------------\n",
    "nom_satellite = \"JA3\"\n",
    "jour_debut = \"2024-04-07\"\n",
    "jour_fin = \"2024-04-09\"\n",
    "resultats = lecteur.lire_smooth_pos(nom_satellite, jour_debut, jour_fin)\n",
    "\n",
    "# Sélectionner uniquement les colonnes 'jour', 'temps', 'x', 'y' et 'z'\n",
    "colonnes_positions = ['jour', 'temps', 'x', 'y', 'z']\n",
    "resultats_filtres = resultats[colonnes_positions]\n",
    "\n",
    "print(resultats_filtres)"
   ]
  },
  {
   "cell_type": "code",
   "execution_count": 4,
   "id": "731b4871",
   "metadata": {},
   "outputs": [
    {
     "name": "stdout",
     "output_type": "stream",
     "text": [
      "Index(['2024-04-07', '2024-04-08'], dtype='object')\n",
      "            temps satellite_station          modele  residuel  elevation_sat  \\\n",
      "0    7.657094e+08    CS2(1)-SJVC(1)  IonoFreeDorisD -0.000658        28.6942   \n",
      "1    7.657094e+08    CS2(1)-SJVC(1)  IonoFreeDorisD  0.000120        28.0139   \n",
      "2    7.657094e+08    CS2(1)-SJVC(1)  IonoFreeDorisD  0.000638        27.7292   \n",
      "3    7.657095e+08    CS2(1)-SJVC(1)  IonoFreeDorisD -0.000504        31.9166   \n",
      "4    7.657095e+08    CS2(1)-SJVC(1)  IonoFreeDorisD  0.000214        31.2266   \n",
      "..            ...               ...             ...       ...            ...   \n",
      "433  7.658826e+08    CS2(1)-SJVC(1)  IonoFreeDorisD -0.000375        31.6280   \n",
      "434  7.658826e+08    CS2(1)-SJVC(1)  IonoFreeDorisD -0.000459        32.3741   \n",
      "435  7.658827e+08    CS2(1)-SJVC(1)  IonoFreeDorisD  0.001294        27.8430   \n",
      "436  7.658827e+08    CS2(1)-SJVC(1)  IonoFreeDorisD  0.000463        28.1524   \n",
      "437  7.658826e+08    CS2(1)-SJVC(1)  IonoFreeDorisD  0.000808        28.8900   \n",
      "\n",
      "     azimut_sat  elevation_station  azimut_station  \n",
      "0       6.35204           12.12540         172.649  \n",
      "1       6.16834           10.23720         172.908  \n",
      "2       6.08619            9.34867         173.029  \n",
      "3       7.12123           18.97030         171.663  \n",
      "4       6.96342           17.67670         171.856  \n",
      "..          ...                ...             ...  \n",
      "433   183.46900           18.14820         353.772  \n",
      "434   183.47000           19.50080         353.785  \n",
      "435   183.47700            9.50982         353.667  \n",
      "436   183.47500           10.42600         353.679  \n",
      "437   183.47200           12.37700         353.705  \n",
      "\n",
      "[438 rows x 8 columns]\n"
     ]
    }
   ],
   "source": [
    "    ## --------Lecture FinalResidual.out-------------\n",
    "    final_residual_data = lecteur.lire_final_residual(nom_satellite='CS2', jour_debut='2024-04-07', jour_fin='2024-04-08', noms_stations=['SJVC'])\n",
    "    print(final_residual_data)"
   ]
  },
  {
   "cell_type": "code",
   "execution_count": 6,
   "id": "3beb54f2",
   "metadata": {},
   "outputs": [
    {
     "name": "stdout",
     "output_type": "stream",
     "text": [
      "Index(['2024-04-07'], dtype='object')\n",
      "              temps       apriori  valeur_parametre    ecart_type  \\\n",
      "0       765709260.0  7.657093e+08      1.594196e+07 -1.000000e+00   \n",
      "1       765709260.0  0.000000e+00      9.527046e-14  8.742935e-14   \n",
      "2       765709260.0  0.000000e+00      4.309197e-09  2.680147e-08   \n",
      "3       765709260.0  0.000000e+00     -1.745539e-13  1.309751e-13   \n",
      "4       765709260.0  0.000000e+00     -4.721713e-10  2.739601e-08   \n",
      "...             ...           ...               ...           ...   \n",
      "680395  765817200.0  0.000000e+00     -2.058202e-09  2.252777e-10   \n",
      "680396  765817200.0  0.000000e+00      4.634516e-09  7.536299e-10   \n",
      "680397  765817200.0  0.000000e+00      6.608545e-09  1.971923e-09   \n",
      "680398  765817200.0  0.000000e+00     -1.038128e-11  9.907576e-10   \n",
      "680399  765817200.0  2.041962e+00      4.696270e+00  2.698811e+00   \n",
      "\n",
      "                                            nom_parametre  \n",
      "0       Source.ID,Rogue,/home/snahmani/GipsyX-versions...  \n",
      "1                      .Global.EarthOrientation.YpoleRate  \n",
      "2                          .Global.EarthOrientation.Ypole  \n",
      "3                      .Global.EarthOrientation.XpoleRate  \n",
      "4                          .Global.EarthOrientation.Xpole  \n",
      "...                                                   ...  \n",
      "680395  .Satellite.CS2.Models.EmpiricalAccelerations.O...  \n",
      "680396  .Satellite.CS2.Models.EmpiricalAccelerations.O...  \n",
      "680397  .Satellite.CS2.Models.EmpiricalAccelerations.O...  \n",
      "680398  .Satellite.CS2.Models.EmpiricalAccelerations.C...  \n",
      "680399           .Satellite.CS2.Models.AtmosphericDrag.Cd  \n",
      "\n",
      "[680400 rows x 5 columns]\n"
     ]
    }
   ],
   "source": [
    "##---------Lecture smooth.tdp--------------------\n",
    "smooth_tdp = lecteur.lire_fichiers_tdp(\"CS2\", \"2024-04-07\", \"2024-04-07\")\n",
    "print(smooth_tdp)"
   ]
  },
  {
   "cell_type": "code",
   "execution_count": 7,
   "id": "dc054ca8",
   "metadata": {
    "scrolled": true
   },
   "outputs": [
    {
     "name": "stdout",
     "output_type": "stream",
     "text": [
      "          nom_complet   longitude   latitude abreviation\n",
      "0             AJACCIO    8.762444  41.927472        AJAB\n",
      "1           AMSTERDAM   77.571361 -37.798583        AMVB\n",
      "2            AREQUIPA  -71.493000 -16.465778        ARFB\n",
      "3               ARLIT    7.358583  18.782194        ARMA\n",
      "4           ASCENSION  -14.332639  -7.916194        ASEB\n",
      "..                ...         ...        ...         ...\n",
      "95             WALLIS -176.179472 -13.265750        WALA\n",
      "96           WETTZELL   12.880000  49.145000        WEUC\n",
      "97         YARRAGADEE  115.346750 -29.046167        YASB\n",
      "98        YELLOWKNIFE -114.479861  62.481111        YEMB\n",
      "99  YUZHNO-SAKHALINSK  142.716778  47.029694        SAKB\n",
      "\n",
      "[100 rows x 4 columns]\n"
     ]
    }
   ],
   "source": [
    "##-------Lecture station_data.txt------------\n",
    "chemin_dossier = current_dir / \"stations_data.txt\"\n",
    "lecture_fichier = LectureFichier(chemin_dossier)\n",
    "df_stations = lecture_fichier.lire_position_stations('stations_data.txt')\n",
    "print(df_stations)"
   ]
  },
  {
   "cell_type": "markdown",
   "id": "182c730e",
   "metadata": {},
   "source": [
    "Dans cette même classe `Modele`, on trouve la méthode `obtenir_stations_final_residual`, qui intervient lors de la saisie utilisateur. En effet, comme expliqué dans la documentation utilisateur, l'utilisateur va pouvoir choisir le satellite qu'il veut étudier en particulier. Suite à cela, il charge les stations associées, car en effet, chaque satellite est vu par un nombre de station limité. Etant donné que l'utilisateur a la possibilité de choisir une station, il faut que cette dernière soit choisie en fonction du satellite choisi. C'est donc pour cela que méthode a été créée."
   ]
  },
  {
   "cell_type": "code",
   "execution_count": 12,
   "id": "6f71b905",
   "metadata": {
    "scrolled": false
   },
   "outputs": [
    {
     "name": "stdout",
     "output_type": "stream",
     "text": [
      "Index(['2024-04-07', '2024-04-08', '2024-04-09'], dtype='object')\n",
      "['ADHC', 'AMVB', 'ASEB', 'BEMB', 'BETB', 'CIDB', 'COBB', 'CRRC', 'DIOB', 'DJIB', 'EVEB', 'GAVC', 'GONC', 'GR4B', 'GRFB', 'HBMB', 'HEMB', 'HROC', 'JIWC', 'KEYC', 'KIVC', 'KOLB', 'KRWB', 'LAOB', 'LICB', 'MAIB', 'MALC', 'MANB', 'MAVC', 'MEUB', 'MIAB', 'MLAC', 'MNAC', 'MSPB', 'NOXC', 'OWFC', 'PAUB', 'PDOC', 'REVC', 'RIMC', 'RISC', 'ROBC', 'SARC', 'SCSC', 'SJVC', 'SOFC', 'STKC', 'SVBC', 'TLSB', 'TRJB', 'YASB', 'YEMB'] 52\n"
     ]
    }
   ],
   "source": [
    "stations = modele.obtenir_stations_final_residual(\"S3B\", \"2024-04-07\", \"2024-04-09\")\n",
    "print(stations, len(stations))"
   ]
  },
  {
   "cell_type": "markdown",
   "id": "dce49f74",
   "metadata": {},
   "source": [
    "### b) Classe Controleur\n",
    "\n",
    "   Concernant le contrôleur, il gère les interactions entre le modèle et la vue. Il effectue le chargement des données selon les sélections de l’utilisateur c’est à dire qu’il déclenche le chargement et traitement des fichiers en fonction de la période ou des stations choisies. Il gère les événements de visualisation en répondant aux actions de l’utilisateur pour mettre à jour les vues (ex., choisir une station, modifier la période). Pour finir, il permet de gérer les configuration dynamique en intégrant la modularité pour permettre de nouvelles fonctionnalités et nouveaux affichages sans changements majeurs dans le code."
   ]
  },
  {
   "cell_type": "markdown",
   "id": "12d3668f",
   "metadata": {},
   "source": [
    "- `ajouter_actions(self)` : Cette méthode permet de gérer l'action de tous les boutons présents sur l'interface graphique. Cela correspond aux boutons `Saisie-Utilisateur`, `Statistiques`, `Visualisation` (comprenant `Skyplot-Station` et `Skyplot - Satellite`) et `Redémarrer`. Ces méthode permet ainsi de renvoyer l'action du clique sur ces boutons, aux méthodes respectifs associés permettant de réaliser l'action prévue pour le bouton.\n",
    "\n",
    "- `recuperer_donnees_base(self)`: \n"
   ]
  }
 ],
 "metadata": {
  "kernelspec": {
   "display_name": "Python 3 (ipykernel)",
   "language": "python",
   "name": "python3"
  },
  "language_info": {
   "codemirror_mode": {
    "name": "ipython",
    "version": 3
   },
   "file_extension": ".py",
   "mimetype": "text/x-python",
   "name": "python",
   "nbconvert_exporter": "python",
   "pygments_lexer": "ipython3",
   "version": "3.9.13"
  }
 },
 "nbformat": 4,
 "nbformat_minor": 5
}
